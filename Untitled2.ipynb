{
 "cells": [
  {
   "cell_type": "markdown",
   "metadata": {},
   "source": [
    "# Exercise 6 \"Strings and Text\"\n",
    "in this part use strings naming each variable to be able to make the program shorter"
   ]
  },
  {
   "cell_type": "code",
   "execution_count": 7,
   "metadata": {},
   "outputs": [
    {
     "name": "stdout",
     "output_type": "stream",
     "text": [
      "there are 15 types of energy.\n",
      "which are renewable and those that non_renewable.\n",
      "I said: there are 15 types of energy.\n",
      "I also said: which are renewable and those that non_renewable.\n"
     ]
    }
   ],
   "source": [
    "types_of_energy = 15\n",
    "x = f\"there are {types_of_energy} types of energy.\"\n",
    "\n",
    "renewable = \"renewable\"\n",
    "non_renewable = \"non_renewable\"\n",
    "y = f\"which are {renewable} and those that {non_renewable}.\"\n",
    "\n",
    "print(x)\n",
    "print(y)\n",
    "\n",
    "print(f\"I said: {x}\")\n",
    "print(f\"I also said: {y}\")"
   ]
  },
  {
   "cell_type": "markdown",
   "metadata": {},
   "source": [
    "# Exercise 7 \"More Priting\"\n",
    "in this part we could learn to join some words using print and add suspensives at the end "
   ]
  },
  {
   "cell_type": "code",
   "execution_count": 11,
   "metadata": {},
   "outputs": [
    {
     "name": "stdout",
     "output_type": "stream",
     "text": [
      "Peter has an amazing car.\n",
      "Its color is red  as blood.\n",
      "And he runs it all over town.\n",
      ".....\n",
      "crash"
     ]
    }
   ],
   "source": [
    "print(\"Peter has an amazing car.\")\n",
    "print(\"Its color is red  as {}.\".format('blood'))\n",
    "print(\"And he runs it all over town.\")\n",
    "print(\".\" * 5 ) #what we do?\n",
    "end1 = \"c\"\n",
    "end2 = \"r\"\n",
    "end3 = \"a\"\n",
    "end4 = \"s\"\n",
    "end5 = \"h\"\n",
    "# what that comma at the end. if we removing it what happens?\n",
    "print(end1 + end2 + end3 + end4 + end5, end='')"
   ]
  },
  {
   "cell_type": "markdown",
   "metadata": {},
   "source": [
    "# Exercise 8 \"Priting, Priting\"\n",
    "in this exercise we learned how to distribute the text in different parts and in the way we want. "
   ]
  },
  {
   "cell_type": "code",
   "execution_count": 31,
   "metadata": {},
   "outputs": [
    {
     "name": "stdout",
     "output_type": "stream",
     "text": [
      "1 2 3 4 5 \n",
      "one two three four five \n",
      "True False True False True \n",
      "{} {} {} {} {}  {} {} {} {} {}  {} {} {} {} {}  {} {} {} {} {}  {} {} {} {} {}  \n",
      "Write your Favorite Soccer Teams From Mexico Or Europe \n"
     ]
    }
   ],
   "source": [
    "formatter = \"{} {} {} {} {} \"\n",
    "print(formatter.format(1,2,3,4,5))\n",
    "print(formatter.format(\"one\", \"two\" ,\"three\", \"four\", \"five\"))\n",
    "print(formatter.format(True, False, True, False, True))\n",
    "print(formatter.format(formatter, formatter, formatter, formatter, formatter))\n",
    "print (formatter.format(\n",
    "    \"Write your\",\n",
    "    \"Favorite\",\n",
    "    \"Soccer Teams\",\n",
    "    \"From Mexico\",\n",
    "    \"Or Europe\"\n",
    "      \n",
    "      ))"
   ]
  },
  {
   "cell_type": "markdown",
   "metadata": {},
   "source": [
    "# Exercise 9 \"Priting, Priting, Priting\"\n",
    "in this part we use \"n\" to be able to jump from one paragraph to another as a list  "
   ]
  },
  {
   "cell_type": "code",
   "execution_count": 39,
   "metadata": {},
   "outputs": [
    {
     "name": "stdout",
     "output_type": "stream",
     "text": [
      "Here are the head teams:  BAY,BAR,RM,JUV,ATL,BOR,PSG,LIV,\n",
      "Here are the groups:  group1\n",
      "group2\n",
      "group3\n",
      "group4\n",
      "group5\n",
      "group6\n",
      "group7\n",
      "group8\n",
      "\n",
      "      \n",
      "       \n"
     ]
    }
   ],
   "source": [
    "teams = \"BAY,BAR,RM,JUV,ATL,BOR,PSG,LIV,\"\n",
    "groups = \"group1\\ngroup2\\ngroup3\\ngroup4\\ngroup5\\ngroup6\\ngroup7\\ngroup8\"\n",
    "\n",
    "print(\"Here are the head teams: \" , teams)\n",
    "print(\"Here are the groups: \" , groups)\n",
    "\n",
    "print(\"\"\"\n",
    "      \n",
    "       \"\"\")"
   ]
  },
  {
   "cell_type": "markdown",
   "metadata": {},
   "source": [
    "# Exercise 10 \"What was that\"\n",
    "here we could make a shorter introduction and a more concrete list"
   ]
  },
  {
   "cell_type": "code",
   "execution_count": 41,
   "metadata": {},
   "outputs": [
    {
     "name": "stdout",
     "output_type": "stream",
     "text": [
      "\t i'm busy student\n",
      "i'm trying\be a good student.\n",
      "i'm\\ a\\ student.\n",
      "\n",
      "i'll do a list:\n",
      "\t*Be engineer\n",
      "\t*Have a good job\n",
      "\t*learn a lot about my carrer\n",
      "\t*Be C2 in English\n",
      "\n"
     ]
    }
   ],
   "source": [
    "busy_student = \"\\t i'm busy student\"\n",
    "working_student =\"i'm trying\\be a good student.\"\n",
    "student = \"i'm\\\\ a\\\\ student.\"\n",
    "\n",
    "my_goals = \"\"\"\n",
    "i'll do a list:\n",
    "\\t*Be engineer\n",
    "\\t*Have a good job\n",
    "\\t*learn a lot about my carrer\\n\\t*Be C2 in English\n",
    "\"\"\"\n",
    "print(busy_student)\n",
    "print(working_student)\n",
    "print(student)\n",
    "print(my_goals)"
   ]
  },
  {
   "cell_type": "code",
   "execution_count": null,
   "metadata": {},
   "outputs": [],
   "source": []
  }
 ],
 "metadata": {
  "kernelspec": {
   "display_name": "Python 3",
   "language": "python",
   "name": "python3"
  },
  "language_info": {
   "codemirror_mode": {
    "name": "ipython",
    "version": 3
   },
   "file_extension": ".py",
   "mimetype": "text/x-python",
   "name": "python",
   "nbconvert_exporter": "python",
   "pygments_lexer": "ipython3",
   "version": "3.7.4"
  }
 },
 "nbformat": 4,
 "nbformat_minor": 2
}
